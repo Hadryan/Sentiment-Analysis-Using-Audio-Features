{
 "cells": [
  {
   "cell_type": "code",
   "execution_count": 7,
   "metadata": {},
   "outputs": [],
   "source": [
    "import os\n",
    "import json\n",
    "import soundfile as sf\n",
    "from librosa import get_duration\n"
   ]
  },
  {
   "cell_type": "code",
   "execution_count": 8,
   "metadata": {},
   "outputs": [],
   "source": [
    "path = '/Users/pooya/Downloads/Web-Interface-for-NVIDIA-NeMo-master/Audio_Speech_Actors_01-24/'\n",
    "\n",
    "Y = []\n",
    "for subdir, dirs, files in os.walk(path):\n",
    "    for file in files:\n",
    "        try:\n",
    "            if file.endswith('.wav'):\n",
    "\n",
    "                Y.append(int(file[7:8]) - 1 )\n",
    "\n",
    "        except ValueError:\n",
    "            continue\n",
    "\n"
   ]
  },
  {
   "cell_type": "code",
   "execution_count": 10,
   "metadata": {},
   "outputs": [
    {
     "name": "stderr",
     "output_type": "stream",
     "text": [
      "2020-05-16 00:35:39,824 - INFO - PADDING: 16\n",
      "2020-05-16 00:35:39,824 - INFO - PADDING: 16\n",
      "2020-05-16 00:35:39,825 - INFO - STFT using conv\n",
      "2020-05-16 00:35:39,825 - INFO - STFT using conv\n",
      "2020-05-16 00:35:40,585 - INFO - ================================\n",
      "2020-05-16 00:35:40,585 - INFO - ================================\n",
      "2020-05-16 00:35:40,588 - INFO - Number of parameters in encoder: 18894656\n",
      "2020-05-16 00:35:40,588 - INFO - Number of parameters in encoder: 18894656\n",
      "2020-05-16 00:35:40,590 - INFO - Number of parameters in decoder: 29725\n",
      "2020-05-16 00:35:40,590 - INFO - Number of parameters in decoder: 29725\n",
      "2020-05-16 00:35:40,592 - INFO - Total number of parameters in model: 18924381\n",
      "2020-05-16 00:35:40,592 - INFO - Total number of parameters in model: 18924381\n",
      "2020-05-16 00:35:40,593 - INFO - ================================\n",
      "2020-05-16 00:35:40,593 - INFO - ================================\n",
      "2020-05-16 00:35:40,619 - INFO - Started Transcribing Speech\n",
      "2020-05-16 00:35:40,619 - INFO - Started Transcribing Speech\n",
      "2020-05-16 00:35:40,737 - INFO - Dataset loaded with 1.48 hours. Filtered 0.00 hours.\n",
      "2020-05-16 00:35:40,737 - INFO - Dataset loaded with 1.48 hours. Filtered 0.00 hours.\n",
      "2020-05-16 00:35:40,738 - INFO - Loading 1442 examples\n",
      "2020-05-16 00:35:40,738 - INFO - Loading 1442 examples\n",
      "2020-05-16 00:35:40,748 - INFO - Evaluating batch 0 out of 1442\n",
      "2020-05-16 00:35:40,748 - INFO - Evaluating batch 0 out of 1442\n",
      "../aten/src/ATen/native/BinaryOps.cpp:81: UserWarning: Integer division of tensors using div or / is deprecated, and in a future release div will perform true division as in Python 3. Use true_divide or floor_divide (// in Python) instead.\n",
      "2020-05-16 00:36:04,130 - INFO - Evaluating batch 144 out of 1442\n",
      "2020-05-16 00:36:04,130 - INFO - Evaluating batch 144 out of 1442\n",
      "2020-05-16 00:36:25,757 - INFO - Evaluating batch 288 out of 1442\n",
      "2020-05-16 00:36:25,757 - INFO - Evaluating batch 288 out of 1442\n",
      "2020-05-16 00:36:51,439 - INFO - Evaluating batch 432 out of 1442\n",
      "2020-05-16 00:36:51,439 - INFO - Evaluating batch 432 out of 1442\n",
      "2020-05-16 00:37:14,433 - INFO - Evaluating batch 576 out of 1442\n",
      "2020-05-16 00:37:14,433 - INFO - Evaluating batch 576 out of 1442\n",
      "2020-05-16 00:37:42,481 - INFO - Evaluating batch 720 out of 1442\n",
      "2020-05-16 00:37:42,481 - INFO - Evaluating batch 720 out of 1442\n",
      "2020-05-16 00:38:10,451 - INFO - Evaluating batch 864 out of 1442\n",
      "2020-05-16 00:38:10,451 - INFO - Evaluating batch 864 out of 1442\n",
      "2020-05-16 00:38:33,983 - INFO - Evaluating batch 1008 out of 1442\n",
      "2020-05-16 00:38:33,983 - INFO - Evaluating batch 1008 out of 1442\n",
      "2020-05-16 00:38:58,942 - INFO - Evaluating batch 1152 out of 1442\n",
      "2020-05-16 00:38:58,942 - INFO - Evaluating batch 1152 out of 1442\n",
      "2020-05-16 00:39:23,739 - INFO - Evaluating batch 1296 out of 1442\n",
      "2020-05-16 00:39:23,739 - INFO - Evaluating batch 1296 out of 1442\n",
      "2020-05-16 00:40:02,622 - INFO - Evaluating batch 1440 out of 1442\n",
      "2020-05-16 00:40:02,622 - INFO - Evaluating batch 1440 out of 1442\n"
     ]
    },
    {
     "name": "stdout",
     "output_type": "stream",
     "text": [
      "done2\n"
     ]
    }
   ],
   "source": [
    "path = \"./data.json\"\n",
    "# # path = '/Users/pooya/Downloads/Web-Interface-for-NVIDIA-NeMo-master/Audio_Speech_Actors_01-24/Actor_01/03-01-01-01-01-01-01.wav'\n",
    "\n",
    "\n",
    "asr_model = ASR()\n",
    "output = asr_model.transcribe(path)\n"
   ]
  },
  {
   "cell_type": "code",
   "execution_count": 37,
   "metadata": {},
   "outputs": [
    {
     "name": "stdout",
     "output_type": "stream",
     "text": [
      "torch.Size([1, 1024, 128])\n"
     ]
    }
   ],
   "source": [
    "print(output[5][8].shape)"
   ]
  },
  {
   "cell_type": "code",
   "execution_count": 38,
   "metadata": {},
   "outputs": [
    {
     "name": "stdout",
     "output_type": "stream",
     "text": [
      "<class 'torch.Tensor'>\n"
     ]
    }
   ],
   "source": [
    "print(type(output[5][0]))"
   ]
  },
  {
   "cell_type": "code",
   "execution_count": 58,
   "metadata": {},
   "outputs": [],
   "source": [
    "\n",
    "import joblib\n",
    "\n",
    "lst = []\n",
    "\n",
    "for i in range(len(output[5])):\n",
    "\n",
    "    a = output[5][i].numpy()\n",
    "    z = np.zeros((1,1024, 256 - a.shape[2]), dtype=a.dtype)\n",
    "    result = np.c_[a, z]\n",
    "    arr = result , Y[i]\n",
    "    lst.append(arr)\n",
    "    \n",
    "X, y = zip(*lst)\n",
    "\n",
    "import numpy as np\n",
    "\n",
    "X = np.array(X)\n",
    "y = np.array(y)\n",
    "\n",
    "X_name = 'X.joblib'\n",
    "y_name = 'y.joblib'\n",
    "\n",
    "save_dir = '/Users/pooya/Downloads/Web-Interface-for-NVIDIA-NeMo-master/features/'\n",
    "\n",
    "savedX = joblib.dump(X, os.path.join(save_dir, X_name))\n",
    "savedy = joblib.dump(y, os.path.join(save_dir, y_name))\n"
   ]
  },
  {
   "cell_type": "code",
   "execution_count": null,
   "metadata": {},
   "outputs": [],
   "source": []
  },
  {
   "cell_type": "code",
   "execution_count": null,
   "metadata": {},
   "outputs": [],
   "source": []
  }
 ],
 "metadata": {
  "kernelspec": {
   "display_name": "Python 3",
   "language": "python",
   "name": "python3"
  },
  "language_info": {
   "codemirror_mode": {
    "name": "ipython",
    "version": 3
   },
   "file_extension": ".py",
   "mimetype": "text/x-python",
   "name": "python",
   "nbconvert_exporter": "python",
   "pygments_lexer": "ipython3",
   "version": "3.7.3"
  }
 },
 "nbformat": 4,
 "nbformat_minor": 4
}
