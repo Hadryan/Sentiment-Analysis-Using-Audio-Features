{
 "cells": [
  {
   "cell_type": "code",
   "execution_count": 1,
   "metadata": {},
   "outputs": [
    {
     "name": "stderr",
     "output_type": "stream",
     "text": [
      "################################################################################\n",
      "### WARNING, path does not exist: KALDI_ROOT=/mnt/matylda5/iveselyk/Tools/kaldi-trunk\n",
      "###          (please add 'export KALDI_ROOT=<your_path>' in your $HOME/.profile)\n",
      "###          (or run as: KALDI_ROOT=<your_path> python <your_script>.py)\n",
      "################################################################################\n",
      "\n"
     ]
    },
    {
     "name": "stdout",
     "output_type": "stream",
     "text": [
      "Unable to import APEX. Mixed precision and distributed training will not work.\n"
     ]
    }
   ],
   "source": [
    "from asr import ASR\n",
    "import os\n",
    "import librosa\n",
    "import json\n",
    "import soundfile as sf\n"
   ]
  },
  {
   "cell_type": "code",
   "execution_count": 4,
   "metadata": {},
   "outputs": [],
   "source": [
    "path = '/Users/pooya/Downloads/Web-Interface-for-NVIDIA-NeMo-master/Audio_Speech_Actors_01-24/'\n",
    "\n",
    "Y = []\n",
    "with open('data.json', 'w') as wri:\n",
    "    for subdir, dirs, files in os.walk(path):\n",
    "        for file in files:\n",
    "            try:\n",
    "                if file.endswith('.wav'):\n",
    "                    data, samplerate = sf.read(os.path.join(subdir,file))\n",
    "                    sf.write(file, data, samplerate, subtype='PCM_16')\n",
    "\n",
    "                    data = {}\n",
    "                    wav_filepath = os.path.join(path,file+\"\")\n",
    "                    data[\"audio_filepath\"] = wav_filepath\n",
    "                    duration = librosa.core.get_duration(filename=wav_filepath)\n",
    "                    data[\"duration\"] = duration\n",
    "                    data[\"text\"] = \"\"\n",
    "                    wri.write(json.dumps(data)+\"\\n\")\n",
    "\n",
    "                    # append label to our list \n",
    "                    # we start from 0 otherwise our classifier tries \n",
    "                    # to classify something as 0 class\n",
    "                    Y.append(int(file[7:8]) - 1 )\n",
    "\n",
    "            except ValueError:\n",
    "                continue\n",
    "\n"
   ]
  },
  {
   "cell_type": "code",
   "execution_count": null,
   "metadata": {},
   "outputs": [],
   "source": [
    "path = \"./data.json\"\n",
    "# path = '/Users/pooya/Downloads/Web-Interface-for-NVIDIA-NeMo-master/Audio_Speech_Actors_01-24/Actor_01/03-01-01-01-01-01-01.wav'\n",
    "\n",
    "\n",
    "asr_model = ASR()\n",
    "asr_model.transcribe(path)\n"
   ]
  },
  {
   "cell_type": "code",
   "execution_count": null,
   "metadata": {},
   "outputs": [],
   "source": []
  },
  {
   "cell_type": "code",
   "execution_count": null,
   "metadata": {},
   "outputs": [],
   "source": []
  },
  {
   "cell_type": "code",
   "execution_count": null,
   "metadata": {},
   "outputs": [],
   "source": []
  },
  {
   "cell_type": "code",
   "execution_count": null,
   "metadata": {},
   "outputs": [],
   "source": []
  }
 ],
 "metadata": {
  "kernelspec": {
   "display_name": "Python 3",
   "language": "python",
   "name": "python3"
  },
  "language_info": {
   "codemirror_mode": {
    "name": "ipython",
    "version": 3
   },
   "file_extension": ".py",
   "mimetype": "text/x-python",
   "name": "python",
   "nbconvert_exporter": "python",
   "pygments_lexer": "ipython3",
   "version": "3.7.3"
  }
 },
 "nbformat": 4,
 "nbformat_minor": 4
}
